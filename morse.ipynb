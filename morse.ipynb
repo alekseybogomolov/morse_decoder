{
  "cells": [
    {
      "cell_type": "markdown",
      "metadata": {
        "id": "-z_2ATe778Y0"
      },
      "source": [
        "Сперва устанавливаем необходимые библиотеки"
      ]
    },
    {
      "cell_type": "code",
      "execution_count": 1,
      "metadata": {
        "colab": {
          "base_uri": "https://localhost:8080/"
        },
        "execution": {
          "iopub.execute_input": "2025-04-18T03:13:42.543671Z",
          "iopub.status.busy": "2025-04-18T03:13:42.543305Z",
          "iopub.status.idle": "2025-04-18T03:13:51.582542Z",
          "shell.execute_reply": "2025-04-18T03:13:51.581452Z",
          "shell.execute_reply.started": "2025-04-18T03:13:42.543628Z"
        },
        "id": "KRq1IfKwbTe7",
        "outputId": "e7b43cd7-6f3d-4e01-9294-971fde2eef5b",
        "trusted": true
      },
      "outputs": [
        {
          "name": "stdout",
          "output_type": "stream",
          "text": [
            "Requirement already satisfied: Levenshtein in /usr/local/lib/python3.11/dist-packages (0.27.1)\n",
            "Requirement already satisfied: rapidfuzz<4.0.0,>=3.9.0 in /usr/local/lib/python3.11/dist-packages (from Levenshtein) (3.13.0)\n"
          ]
        }
      ],
      "source": [
        "pip install Levenshtein\n"
      ]
    },
    {
      "cell_type": "code",
      "execution_count": 5,
      "metadata": {
        "colab": {
          "base_uri": "https://localhost:8080/"
        },
        "execution": {
          "iopub.execute_input": "2025-04-18T03:13:51.584645Z",
          "iopub.status.busy": "2025-04-18T03:13:51.584376Z",
          "iopub.status.idle": "2025-04-18T03:13:55.878656Z",
          "shell.execute_reply": "2025-04-18T03:13:55.877487Z",
          "shell.execute_reply.started": "2025-04-18T03:13:51.584622Z"
        },
        "id": "XatgsnL6bTfB",
        "outputId": "b16ba3b1-7fcd-4bfc-8e9f-6cec8bdec15c",
        "trusted": true
      },
      "outputs": [
        {
          "name": "stdout",
          "output_type": "stream",
          "text": [
            "Collecting noisereduce\n",
            "  Downloading noisereduce-3.0.3-py3-none-any.whl.metadata (14 kB)\n",
            "Requirement already satisfied: scipy in /usr/local/lib/python3.11/dist-packages (from noisereduce) (1.14.1)\n",
            "Requirement already satisfied: matplotlib in /usr/local/lib/python3.11/dist-packages (from noisereduce) (3.10.0)\n",
            "Requirement already satisfied: numpy in /usr/local/lib/python3.11/dist-packages (from noisereduce) (2.0.2)\n",
            "Requirement already satisfied: tqdm in /usr/local/lib/python3.11/dist-packages (from noisereduce) (4.67.1)\n",
            "Requirement already satisfied: joblib in /usr/local/lib/python3.11/dist-packages (from noisereduce) (1.4.2)\n",
            "Requirement already satisfied: contourpy>=1.0.1 in /usr/local/lib/python3.11/dist-packages (from matplotlib->noisereduce) (1.3.2)\n",
            "Requirement already satisfied: cycler>=0.10 in /usr/local/lib/python3.11/dist-packages (from matplotlib->noisereduce) (0.12.1)\n",
            "Requirement already satisfied: fonttools>=4.22.0 in /usr/local/lib/python3.11/dist-packages (from matplotlib->noisereduce) (4.57.0)\n",
            "Requirement already satisfied: kiwisolver>=1.3.1 in /usr/local/lib/python3.11/dist-packages (from matplotlib->noisereduce) (1.4.8)\n",
            "Requirement already satisfied: packaging>=20.0 in /usr/local/lib/python3.11/dist-packages (from matplotlib->noisereduce) (24.2)\n",
            "Requirement already satisfied: pillow>=8 in /usr/local/lib/python3.11/dist-packages (from matplotlib->noisereduce) (11.1.0)\n",
            "Requirement already satisfied: pyparsing>=2.3.1 in /usr/local/lib/python3.11/dist-packages (from matplotlib->noisereduce) (3.2.3)\n",
            "Requirement already satisfied: python-dateutil>=2.7 in /usr/local/lib/python3.11/dist-packages (from matplotlib->noisereduce) (2.8.2)\n",
            "Requirement already satisfied: six>=1.5 in /usr/local/lib/python3.11/dist-packages (from python-dateutil>=2.7->matplotlib->noisereduce) (1.17.0)\n",
            "Downloading noisereduce-3.0.3-py3-none-any.whl (22 kB)\n",
            "Installing collected packages: noisereduce\n",
            "Successfully installed noisereduce-3.0.3\n"
          ]
        }
      ],
      "source": [
        "pip install noisereduce"
      ]
    },
    {
      "cell_type": "code",
      "execution_count": null,
      "metadata": {
        "colab": {
          "base_uri": "https://localhost:8080/"
        },
        "execution": {
          "iopub.execute_input": "2025-04-18T03:13:55.880396Z",
          "iopub.status.busy": "2025-04-18T03:13:55.880130Z",
          "iopub.status.idle": "2025-04-18T03:14:02.820026Z",
          "shell.execute_reply": "2025-04-18T03:14:02.818844Z",
          "shell.execute_reply.started": "2025-04-18T03:13:55.880364Z"
        },
        "id": "D7VFcl8pbTfC",
        "outputId": "97576aeb-4b89-4153-8d3f-50244313714f",
        "trusted": true
      },
      "outputs": [
        {
          "name": "stdout",
          "output_type": "stream",
          "text": [
            "Используется устройство: cuda\n"
          ]
        }
      ],
      "source": [
        "\n",
        "import os\n",
        "import numpy as np\n",
        "import pandas as pd\n",
        "import torch\n",
        "import torch.nn as nn\n",
        "import torch.optim as optim\n",
        "from torch.utils.data import Dataset, DataLoader\n",
        "import torchaudio\n",
        "import librosa\n",
        "import matplotlib.pyplot as plt\n",
        "from sklearn.model_selection import train_test_split\n",
        "from tqdm.notebook import tqdm\n",
        "import Levenshtein\n",
        "import warnings\n",
        "import gc\n",
        "from scipy.signal import medfilt, butter, sosfilt, t, periodogram\n",
        "from pathlib import Path\n",
        "import zipfile\n",
        "import io\n",
        "\n",
        "\n",
        "\n",
        "warnings.filterwarnings('ignore')\n",
        "\n",
        "# Проверяем доступность GPU\n",
        "device = torch.device('cuda' if torch.cuda.is_available() else 'cpu')\n",
        "print(f\"Используется устройство: {device}\")\n",
        "\n"
      ]
    },
    {
      "cell_type": "code",
      "execution_count": null,
      "metadata": {},
      "outputs": [],
      "source": [
        "# Глобальные переменные\n",
        "\n",
        "TEST_CSV = \"/content/drive/MyDrive/kontur/test.csv\"\n",
        "ZIP_PATH = '/content/drive/MyDrive/kontur/morse_dataset.zip'\n",
        "BASE_DIR = 'morse_dataset/' \n",
        "DATA_DIR = \"../input/morse1/morse_dataset/morse_dataset\"\n",
        "CSV_FILE = \"/content/drive/MyDrive/kontur/train.csv\"\n",
        "PROCESSED_DATA = \"/content/drive/MyDrive/kontur/processed.parquet\"\n",
        "BATCH_SIZE = 64\n",
        "LEARNING_RATE = 0.001\n",
        "NUM_EPOCHS = 50\n",
        "PATIENCE = 5  # Количество эпох без улучшения перед остановкой\n",
        "VALID_SIZE = 0.1"
      ]
    },
    {
      "cell_type": "code",
      "execution_count": 4,
      "metadata": {
        "colab": {
          "base_uri": "https://localhost:8080/"
        },
        "execution": {
          "iopub.execute_input": "2025-04-18T03:14:02.821536Z",
          "iopub.status.busy": "2025-04-18T03:14:02.821057Z",
          "iopub.status.idle": "2025-04-18T03:14:02.913038Z",
          "shell.execute_reply": "2025-04-18T03:14:02.912144Z",
          "shell.execute_reply.started": "2025-04-18T03:14:02.821507Z"
        },
        "id": "dkX4CTqxbTfF",
        "outputId": "a2bd5253-20e0-462d-95af-bdc9fe6333f1",
        "trusted": true
      },
      "outputs": [
        {
          "name": "stdout",
          "output_type": "stream",
          "text": [
            "Загружено 30000 примеров из CSV файла\n",
            "       id     message\n",
            "0  1.opus  03ЩУЫЛПИГХ\n",
            "1  2.opus  ЪЛТ0ДС6А3Г\n",
            "2  3.opus   5ЭКЫБЗХЯН\n",
            "3  4.opus   ЖЫЦОИ68КФ\n",
            "4  5.opus   32Ю7МЫ ЗЛ\n",
            "Общее количество символов: 45\n"
          ]
        }
      ],
      "source": [
        "# Загрузка трэйн-CSV файла\n",
        "df = pd.read_csv(CSV_FILE)\n",
        "print(f\"Загружено {len(df)} примеров из CSV файла\")\n",
        "print(df.head())\n",
        "\n",
        "# Определение словаря символов\n",
        "CHARS = ['<blank>', ' ', '#', '0', '1', '2', '3', '4', '5', '6', '7', '8', '9',\n",
        "         'А', 'Б', 'В', 'Г', 'Д', 'Е', 'Ж', 'З', 'И', 'Й', 'К', 'Л', 'М', 'Н',\n",
        "         'О', 'П', 'Р', 'С', 'Т', 'У', 'Ф', 'Х', 'Ц', 'Ч', 'Ш', 'Щ', 'Ъ', 'Ы',\n",
        "         'Ь', 'Э', 'Ю', 'Я']\n",
        "\n",
        "# Создаем словари для конвертации символов в индексы и обратно\n",
        "char_to_idx = {char: idx for idx, char in enumerate(CHARS)}\n",
        "idx_to_char = {idx: char for idx, char in enumerate(CHARS)}\n",
        "\n",
        "print(f\"Общее количество символов: {len(CHARS)}\")"
      ]
    },
    {
      "cell_type": "markdown",
      "metadata": {
        "id": "kqGom2ya9sib"
      },
      "source": [
        "Ниже в ячейке производим предобработку сигнала - находим доминирующую частоту и применяем полосовой фильтр в окрестностях данной частоты, с целью удаления шума. После этого извлекаем признаки.  На первоначальном этапе проводился абляционный прогон в ходе которого были удалены ряд признаков отрицательно влияющих на результат (mel высокой размерности, bandwidth ит.д.)              \n",
        "                      config  valid_loss  valid_dist\n",
        "0                      all    0.147297    0.336667\n",
        "1           all_minus_mfcc    0.140590    0.308000\n",
        "2          all_minus_delta    0.148802    0.317667\n",
        "3         all_minus_delta2    0.135243    0.311667\n",
        "4      all_minus_log_mel12    0.151838    0.318333\n",
        "5      all_minus_log_mel24    0.138677    0.318000\n",
        "6       all_minus_centroid    0.140199    0.325667\n",
        "7      all_minus_bandwidth    0.123273    0.297000\n",
        "8            all_minus_rms    0.145063    0.335333\n",
        "9            all_minus_zcr    0.144540    0.324000\n",
        "10     all_minus_env_feats    0.135479    0.311667\n",
        "11  all_minus_timing_stats    0.140990    0.316667"
      ]
    },
    {
      "cell_type": "markdown",
      "metadata": {},
      "source": [
        "![alt text](image-2.png)\n"
      ]
    },
    {
      "cell_type": "code",
      "execution_count": null,
      "metadata": {
        "id": "9bLxE_gyBXFm"
      },
      "outputs": [],
      "source": [
        "\n",
        "\n",
        "# Параметры обработки сигнала\n",
        "PREEMPHASIS = 0.97\n",
        "N_MFCC      = 12\n",
        "N_FFT       = 512\n",
        "HOP_LENGTH  = 256\n",
        "FMAX        = 2000\n",
        "\n",
        "def find_dominant_freq(signal, sr, min_freq=100, max_freq=2000):\n",
        "    \"\"\"Находит доминирующую частоту в заданном диапазоне\"\"\"\n",
        "    freqs = np.fft.rfftfreq(len(signal), 1/sr)\n",
        "    fft   = np.abs(np.fft.rfft(signal))\n",
        "    mask  = (freqs >= min_freq) & (freqs <= max_freq)\n",
        "    if not np.any(mask):\n",
        "        return 700, None\n",
        "    freqs, fft = freqs[mask], fft[mask]\n",
        "    return freqs[np.argmax(fft)], None\n",
        "\n",
        "def extract_features_enhanced(y, sr=16000,  morse_speed='auto'):\n",
        "    \n",
        "    #  полосовой фильтр вокруг частоты ±15 Гц (данный диапазон определен эмпирически в ходе предобработки )\n",
        "    f0, _ = find_dominant_freq(y, sr, min_freq=100, max_freq=2000)\n",
        "    lowcut  = max(0,          f0 - 15)\n",
        "    highcut = min(sr / 2.0,   f0 + 15)\n",
        "    b_bp, a_bp = butter(4, [lowcut, highcut], btype='bandpass', fs=sr)\n",
        "    y = filtfilt(b_bp, a_bp, y)\n",
        "\n",
        "\n",
        "    # Pre‑emphasis + normalize\n",
        "    y = librosa.effects.preemphasis(y=y, coef=PREEMPHASIS)\n",
        "    y = librosa.util.normalize(y)\n",
        "\n",
        "    if morse_speed == 'auto':\n",
        "        # Оценка скорости по частоте перехода через ноль\n",
        "        zero_crossings = np.sum(np.abs(np.diff(np.sign(y))) > 0)\n",
        "        speed_factor = zero_crossings / len(y)\n",
        "\n",
        "        if speed_factor > 0.1:  # Быстрая морзянка\n",
        "            current_hop_length = 128\n",
        "        else:  # Медленная морзянка\n",
        "            current_hop_length = 256\n",
        "    elif morse_speed == 'fast':\n",
        "        current_hop_length = 128\n",
        "    else:  # slow\n",
        "        current_hop_length = 256\n",
        "\n",
        "    # Демодуляция огибающей\n",
        "    f, P = periodogram(x=y, fs=sr, window='blackman', nfft=8192, scaling='spectrum')\n",
        "    tone = f[np.argmax(P)]\n",
        "    t = np.arange(len(y)) / sr\n",
        "    mixed = y * (1 + np.sin(2*np.pi*tone*t)) / 2\n",
        "    cutoff = 40 if current_hop_length <= 128 else 25\n",
        "    b, a = butter(3, cutoff/(sr/2), btype='low')\n",
        "    env = filtfilt(b, a, np.abs(mixed))\n",
        "    env_dec = env[::HOP_LENGTH]\n",
        "    if env_dec.max() > 0:\n",
        "        env_dec /= env_dec.max()\n",
        "    env_delta = np.diff(env_dec, prepend=env_dec[0])  \n",
        "    env_stats = np.array([\n",
        "        np.mean(env_dec),\n",
        "        np.std(env_dec),\n",
        "        np.max(env_dec) - np.min(env_dec)\n",
        "    ])[:, np.newaxis].repeat(len(env_dec), axis=1)\n",
        "\n",
        "    env_feats = np.vstack([\n",
        "        env_dec,                # Сама огибающая\n",
        "        env_delta,              # Производная огибающей (для определения границ)\n",
        "        env_stats               # Статистики огибающей\n",
        "    ])  # (5, T_env)\n",
        "\n",
        "    # MFCC + дельты + delta2\n",
        "    mfcc   = librosa.feature.mfcc(y=y, sr=sr,\n",
        "                                  n_mfcc=N_MFCC,\n",
        "                                  n_fft=N_FFT,\n",
        "                                  hop_length=HOP_LENGTH,\n",
        "                                  fmax=FMAX)\n",
        "    delta  = librosa.feature.delta(mfcc, width=5)\n",
        "    delta2 = librosa.feature.delta(mfcc, order=2, width=5)\n",
        "\n",
        "    #  Mel: 24 и 12 фильтров (точный и грубый фильтр)\n",
        "    mel24 = librosa.feature.melspectrogram(y=y, sr=sr,\n",
        "                                           n_fft=N_FFT,\n",
        "                                           hop_length=HOP_LENGTH,\n",
        "                                           n_mels=24,\n",
        "                                           fmax=FMAX)\n",
        "    mel12 = librosa.feature.melspectrogram(y=y, sr=sr,\n",
        "                                           n_fft=N_FFT,\n",
        "                                           hop_length=HOP_LENGTH,\n",
        "                                           n_mels=12,\n",
        "                                           fmax=FMAX)\n",
        "    log_mel24 = librosa.power_to_db(mel24, ref=np.max)\n",
        "    log_mel12 = librosa.power_to_db(mel12, ref=np.max)\n",
        "\n",
        "    # Спектральные признаки\n",
        "    centroid  = librosa.feature.spectral_centroid(y=y, sr=sr,\n",
        "                                                  n_fft=N_FFT, hop_length=HOP_LENGTH)\n",
        "\n",
        "    rolloff   = librosa.feature.spectral_rolloff(y=y, sr=sr,\n",
        "                                                 n_fft=N_FFT, hop_length=HOP_LENGTH)\n",
        "    binary_env = (env_dec > 0.3).astype(float)\n",
        "\n",
        "    # Находим длины интервалов\n",
        "    signal_lengths = []\n",
        "    silence_lengths = []\n",
        "    current_state = 0\n",
        "    current_length = 0\n",
        "\n",
        "    for bit in binary_env:\n",
        "        if bit == current_state:\n",
        "            current_length += 1\n",
        "        else:\n",
        "            if current_state == 1:\n",
        "                signal_lengths.append(current_length)\n",
        "            else:\n",
        "                silence_lengths.append(current_length)\n",
        "            current_state = bit\n",
        "            current_length = 1\n",
        "\n",
        "    # Добавляем последний интервал\n",
        "    if current_length > 0:\n",
        "        if current_state == 1:\n",
        "            signal_lengths.append(current_length)\n",
        "        else:\n",
        "            silence_lengths.append(current_length)\n",
        "     # Создаем гистограммы длин (помогают классифицировать точки, тире и паузы)\n",
        "    if signal_lengths:\n",
        "        sig_mean = np.mean(signal_lengths)\n",
        "        sig_std = np.std(signal_lengths) if len(signal_lengths) > 1 else 1.0\n",
        "    else:\n",
        "        sig_mean, sig_std = 0, 1\n",
        "\n",
        "    if silence_lengths:\n",
        "        sil_mean = np.mean(silence_lengths)\n",
        "        sil_std = np.std(silence_lengths) if len(silence_lengths) > 1 else 1.0\n",
        "    else:\n",
        "        sil_mean, sil_std = 0, 1\n",
        "\n",
        "    # Масштабированная гистограмма интервалов\n",
        "    timing_stats = np.array([\n",
        "        sig_mean / current_hop_length,\n",
        "        sig_std / current_hop_length,\n",
        "        sil_mean / current_hop_length,\n",
        "        sil_std / current_hop_length\n",
        "    ])[:, np.newaxis].repeat(binary_env.shape[0], axis=1)\n",
        "\n",
        "    # Энергетические признаки\n",
        "    rms = librosa.feature.rms(y=y, frame_length=N_FFT, hop_length=HOP_LENGTH)\n",
        "    zcr = librosa.feature.zero_crossing_rate(y=y,\n",
        "                                             frame_length=N_FFT,\n",
        "                                             hop_length=HOP_LENGTH)\n",
        "\n",
        "    #  все признаки в сборе\n",
        "    feat_list = [\n",
        "        mfcc,           # Мел-кепстральные коэффициенты (12)\n",
        "        delta,          # Дельты MFCC (12)\n",
        "        delta2,         # Дельты второго порядка (12)\n",
        "        log_mel12,      # Малое мел-разрешение (12)\n",
        "        log_mel24,      # Среднее мел-разрешение (24)\n",
        "        centroid,       # Спектральный центроид (1)\n",
        "\n",
        "        rms,            # Энергия (1)\n",
        "        zcr,            # Частота перехода через ноль (1)\n",
        "        env_feats,      # Признаки огибающей (5)\n",
        "        timing_stats    # Признаки временных интервалов (4)\n",
        "    ]\n",
        "\n",
        "    # 9) Отсекаем до минимальной длины T\n",
        "    min_T = min(f.shape[1] for f in feat_list)\n",
        "    feat_list = [f[:, :min_T] for f in feat_list]\n",
        "\n",
        "    # 10) Конкатенируем признаки\n",
        "    features = np.concatenate(feat_list, axis=0)\n",
        "    features = (features - features.mean(axis=1, keepdims=True)) / \\\n",
        "               (features.std(axis=1, keepdims=True) + 1e-6)\n",
        "\n",
        "    return features.T  \n"
      ]
    },
    {
      "cell_type": "code",
      "execution_count": null,
      "metadata": {
        "colab": {
          "base_uri": "https://localhost:8080/"
        },
        "id": "i7izD8lFP_3q",
        "outputId": "d09070b8-7c90-401b-b88e-47a22ed06e9f"
      },
      "outputs": [
        {
          "name": "stderr",
          "output_type": "stream",
          "text": [
            "Предобработка: 100%|██████████| 30000/30000 [58:21<00:00,  8.57it/s]\n"
          ]
        }
      ],
      "source": [
        "#экстрактируем признаки\n",
        "\n",
        "with zipfile.ZipFile(ZIP_PATH, 'r') as zf:\n",
        "    archive_names = zf.namelist()\n",
        "\n",
        "records = []\n",
        "with zipfile.ZipFile(ZIP_PATH, 'r') as zf:\n",
        "    for _, row in tqdm(df.iterrows(), total=len(df), desc=\"Предобработка\"):\n",
        "        fn, msg = row['id'], row['message']\n",
        "        # Ищем полный путь внутри архива\n",
        "        matches = [name for name in archive_names if name.endswith('/' + fn)]\n",
        "        if not matches:\n",
        "            continue\n",
        "        # Открываем файл из архива и читаем байты\n",
        "        with zf.open(matches[0]) as af:\n",
        "            raw = af.read()\n",
        "        # Загружаем сигнал из байтового потока\n",
        "        y, sr = librosa.load(io.BytesIO(raw), sr=16000)\n",
        "        # Извлекаем признаки\n",
        "        feats = extract_features_enhanced(y, sr)\n",
        "        # Добавляем в список\n",
        "        records.append({\n",
        "            'features': feats,   # np.ndarray (T, feature_dim)\n",
        "            'message': msg       # строка\n",
        "        })\n",
        "\n",
        "if not records:\n",
        "    raise RuntimeError(\"Ни одного файла не обработано\")\n",
        "\n",
        "\n",
        "\n"
      ]
    },
    {
      "cell_type": "code",
      "execution_count": null,
      "metadata": {
        "id": "NQU427ghtKmF"
      },
      "outputs": [],
      "source": [
        "# опцпионально десериализуем и  сохраняем в паркет\n",
        "'''\n",
        "\n",
        "processed_df = pd.DataFrame(records)\n",
        "\n",
        "processed_df['feature_shape'] = processed_df['features'].apply(lambda x: x.shape)\n",
        "\n",
        "\n",
        "processed_df['features_bytes'] = processed_df['features']\\\n",
        "    .apply(lambda x: x.astype(np.float32).tobytes())\n",
        "\n",
        "\n",
        "processed_df = processed_df.drop(columns=['features'])\n",
        "\n",
        "\n",
        "processed_df.to_parquet('21_04_2.parquet', index=False)\n",
        "'''\n"
      ]
    },
    {
      "cell_type": "code",
      "execution_count": null,
      "metadata": {
        "id": "9oDTfWLvtUb3"
      },
      "outputs": [],
      "source": [
        "'''\n",
        "df = pd.read_parquet('21_04.parquet')\n",
        "\n",
        "def _deserialize(row):\n",
        "    arr = np.frombuffer(row['features_bytes'], dtype=np.float32)\n",
        "    return arr.reshape(row['feature_shape'])\n",
        "\n",
        "df['features'] = df.apply(_deserialize, axis=1)\n",
        "'''"
      ]
    },
    {
      "cell_type": "code",
      "execution_count": null,
      "metadata": {
        "colab": {
          "base_uri": "https://localhost:8080/"
        },
        "id": "VC2ZdwzrdERk",
        "outputId": "d4f76a83-b1ae-4459-fc56-bc81e4ae8ef3"
      },
      "outputs": [
        {
          "name": "stdout",
          "output_type": "stream",
          "text": [
            "Train size: 29400, Valid size: 600\n"
          ]
        }
      ],
      "source": [
        "# сплит на  train и val датасеты. При предварительном обучении test_size=0.1, финальное рещение: 0.02\n",
        "\n",
        "class MorseDataset(Dataset):\n",
        "    def __init__(self, recs): self.recs = recs\n",
        "    def __len__(self): return len(self.recs)\n",
        "    def __getitem__(self, i):\n",
        "        feats = torch.tensor(self.recs[i]['features'], dtype=torch.float32)\n",
        "        tgt = torch.tensor([char_to_idx.get(c, 0) for c in self.recs[i]['message']], dtype=torch.long)\n",
        "        return feats, tgt, feats.shape[0], len(tgt)\n",
        "\n",
        "def collate_fn(batch):\n",
        "    batch.sort(key=lambda x: x[2], reverse=True)\n",
        "    feats, tgts, flens, tlens = zip(*batch)\n",
        "    B, n_mels = len(feats), feats[0].shape[1]\n",
        "    max_f, max_t = max(flens), max(tlens)\n",
        "    X = torch.zeros(B, max_f, n_mels)\n",
        "    Y = torch.full((B, max_t), -1, dtype=torch.long)\n",
        "    for i in range(B):\n",
        "        X[i, :flens[i]] = feats[i]\n",
        "        Y[i, :tlens[i]] = tgts[i]\n",
        "    return X, Y, torch.tensor(flens), torch.tensor(tlens)\n",
        "\n",
        "train_recs, valid_recs = train_test_split(records, test_size=0.02, random_state=42)\n",
        "train_loader = DataLoader(MorseDataset(train_recs), batch_size=64, shuffle=True, collate_fn=collate_fn)\n",
        "valid_loader = DataLoader(MorseDataset(valid_recs), batch_size=64, shuffle=False, collate_fn=collate_fn)\n",
        "\n",
        "print(f\"Train size: {len(train_recs)}, Valid size: {len(valid_recs)}\")"
      ]
    },
    {
      "cell_type": "markdown",
      "metadata": {},
      "source": [
        "Выбрана следующая легковесная архитектура модели: 3 блока свертки на входе + BiLTSM. Параметров для обучения < 400 000. Также тестировались архитектуры с  GRU (показали худшие метрики) и тяжеловесная архитектура с большим количество блоков свертки и большей размерностью слоев(результат оказался близок к реализованной архитектуре, но более энергозатратен)"
      ]
    },
    {
      "cell_type": "code",
      "execution_count": null,
      "metadata": {
        "colab": {
          "base_uri": "https://localhost:8080/"
        },
        "id": "TLxuR73ZcItX",
        "outputId": "43ee89f4-99c3-4838-dad9-0162cad62fde"
      },
      "outputs": [
        {
          "name": "stdout",
          "output_type": "stream",
          "text": [
            "SimpleMorseModel(\n",
            "  (conv): Sequential(\n",
            "    (0): Conv1d(84, 96, kernel_size=(5,), stride=(1,), padding=(2,))\n",
            "    (1): BatchNorm1d(96, eps=1e-05, momentum=0.1, affine=True, track_running_stats=True)\n",
            "    (2): ReLU()\n",
            "    (3): Dropout(p=0.3, inplace=False)\n",
            "    (4): Conv1d(96, 96, kernel_size=(5,), stride=(2,), padding=(2,))\n",
            "    (5): BatchNorm1d(96, eps=1e-05, momentum=0.1, affine=True, track_running_stats=True)\n",
            "    (6): ReLU()\n",
            "    (7): Dropout(p=0.3, inplace=False)\n",
            "    (8): Conv1d(96, 96, kernel_size=(5,), stride=(2,), padding=(2,))\n",
            "    (9): BatchNorm1d(96, eps=1e-05, momentum=0.1, affine=True, track_running_stats=True)\n",
            "    (10): ReLU()\n",
            "    (11): Dropout(p=0.3, inplace=False)\n",
            "  )\n",
            "  (lstm): LSTM(96, 128, batch_first=True, bidirectional=True)\n",
            "  (classifier): Sequential(\n",
            "    (0): Dropout(p=0.3, inplace=False)\n",
            "    (1): Linear(in_features=256, out_features=45, bias=True)\n",
            "  )\n",
            ")\n",
            "Параметров для обучения: 376333\n"
          ]
        }
      ],
      "source": [
        "\n",
        "class SimpleMorseModel(nn.Module):\n",
        "    def __init__(self, input_dim, hidden_dim, lstm_dim, output_dim, dropout=0.3):\n",
        "        \"\"\"\n",
        "        input_dim  — число входных признаков,\n",
        "        hidden_dim — число каналов в сверточной части,\n",
        "        lstm_dim   — число скрытых единиц в LSTM (на одно направление),\n",
        "        output_dim — число классов на выходе (размер словаря),\n",
        "        dropout    — вероятность отключения нейронов.\n",
        "        \"\"\"\n",
        "        super().__init__()\n",
        "        # сверточная часть: 3 блока (два с stride=2)\n",
        "        self.conv = nn.Sequential(\n",
        "            nn.Conv1d(input_dim, hidden_dim,   kernel_size=5, padding=2),\n",
        "            nn.BatchNorm1d(hidden_dim),\n",
        "            nn.ReLU(),\n",
        "            nn.Dropout(dropout),\n",
        "\n",
        "            nn.Conv1d(hidden_dim, hidden_dim,  kernel_size=5, padding=2, stride=2),\n",
        "            nn.BatchNorm1d(hidden_dim),\n",
        "            nn.ReLU(),\n",
        "            nn.Dropout(dropout),\n",
        "\n",
        "            nn.Conv1d(hidden_dim, hidden_dim,  kernel_size=5, padding=2, stride=2),\n",
        "            nn.BatchNorm1d(hidden_dim),\n",
        "            nn.ReLU(),\n",
        "            nn.Dropout(dropout),\n",
        "        )\n",
        "        # одна BiLSTM\n",
        "        self.lstm = nn.LSTM(\n",
        "            input_size=hidden_dim,\n",
        "            hidden_size=lstm_dim,\n",
        "            num_layers=1,\n",
        "            batch_first=True,\n",
        "            bidirectional=True,\n",
        "            dropout=0\n",
        "        )\n",
        "        # классификатор\n",
        "        self.classifier = nn.Sequential(\n",
        "            nn.Dropout(dropout),\n",
        "            nn.Linear(lstm_dim * 2, output_dim)\n",
        "        )\n",
        "\n",
        "    def forward(self, x, x_lengths):\n",
        "        # x: [B, T, F] → [B, F, T]\n",
        "        x = x.transpose(1, 2)\n",
        "        x = self.conv(x)\n",
        "        # → [B, T', C]\n",
        "        x = x.transpose(1, 2)\n",
        "\n",
        "        # делим длины на 4 (т.к. два stride=2)\n",
        "        x_lengths = torch.div(x_lengths, 4, rounding_mode='floor')\n",
        "\n",
        "        packed = nn.utils.rnn.pack_padded_sequence(\n",
        "            x, x_lengths.cpu(), batch_first=True, enforce_sorted=False)\n",
        "        packed_out, _ = self.lstm(packed)\n",
        "        out, _ = nn.utils.rnn.pad_packed_sequence(packed_out, batch_first=True)\n",
        "\n",
        "        return self.classifier(out)\n",
        "\n",
        "\n",
        "def create_model(input_dim, hidden_dim, lstm_dim, output_dim, dropout, device):\n",
        "    model = SimpleMorseModel(\n",
        "        input_dim=input_dim,\n",
        "        hidden_dim=hidden_dim,\n",
        "        lstm_dim=lstm_dim,\n",
        "        output_dim=output_dim,\n",
        "        dropout=dropout\n",
        "    )\n",
        "    return model.to(device)\n",
        "\n",
        "\n",
        "# \n",
        "# input_dim = см. размерность признаков\n",
        "# hidden_dim = 96\n",
        "# lstm_dim   = 128\n",
        "# output_dim = len(CHARS)\n",
        "# dropout    = 0.3\n",
        "# device     = torch.device(\"cuda\" if torch.cuda.is_available() else \"cpu\")\n",
        "\n",
        "model = create_model(\n",
        "    input_dim=84,\n",
        "    hidden_dim=96,\n",
        "    lstm_dim=128,\n",
        "    output_dim=len(CHARS),\n",
        "    dropout=0.3,\n",
        "    device=device\n",
        ")\n",
        "\n",
        "print(model)\n",
        "print(\"Параметров для обучения:\", sum(p.numel() for p in model.parameters() if p.requires_grad))\n"
      ]
    },
    {
      "cell_type": "code",
      "execution_count": null,
      "metadata": {},
      "outputs": [],
      "source": []
    },
    {
      "cell_type": "markdown",
      "metadata": {},
      "source": [
        "В качестве критерия используем CTC_LOSS, останавливаем обучение если нет прогресса после 5 эпох, также динамически изменяем скорость обучения в планировщике LR. Принимаем 30 эпох для обучения (достаточно, дальше модель начинает переобучаться). Для борьбы с переобучением используем повышенный dropout = 0.3"
      ]
    },
    {
      "cell_type": "code",
      "execution_count": null,
      "metadata": {
        "execution": {
          "iopub.execute_input": "2025-04-17T09:23:49.565676Z",
          "iopub.status.busy": "2025-04-17T09:23:49.565267Z",
          "iopub.status.idle": "2025-04-17T09:23:49.583847Z",
          "shell.execute_reply": "2025-04-17T09:23:49.583009Z",
          "shell.execute_reply.started": "2025-04-17T09:23:49.565643Z"
        },
        "id": "_gdh6ugCbTfP",
        "trusted": true
      },
      "outputs": [],
      "source": [
        "BATCH_SIZE = 64\n",
        "LEARNING_RATE = 0.001\n",
        "NUM_EPOCHS = 30 \n",
        "PATIENCE = 5  # Количество эпох без улучшения перед остановкой\n",
        "\n",
        "criterion = nn.CTCLoss(blank=0, zero_infinity=True)\n",
        "optimizer = optim.Adam(model.parameters(), lr=LEARNING_RATE, weight_decay=1e-5)\n",
        "scheduler = optim.lr_scheduler.ReduceLROnPlateau(optimizer, mode='min', factor=0.5, patience=2, verbose=True)\n",
        "\n",
        "# Функции для декодирования и вычисления расстояния Левенштейна\n",
        "def decode_predictions(output, output_lengths=None):\n",
        "    \"\"\"Декодирование предсказаний из модели в текст\"\"\"\n",
        "    predictions = []\n",
        "    batch_size = output.size(0)\n",
        "\n",
        "    for i in range(batch_size):\n",
        "        # Получаем индексы с наибольшей вероятностью для каждого временного шага\n",
        "        indices = torch.argmax(output[i], dim=1)\n",
        "\n",
        "      \n",
        "        collapsed = []\n",
        "        prev = -1\n",
        "        for idx in indices:\n",
        "            if idx != prev:\n",
        "                collapsed.append(idx.item())\n",
        "                prev = idx\n",
        "\n",
        "        # Удаление blank символов (0)\n",
        "        no_blank = [idx for idx in collapsed if idx != 0]  \n",
        "\n",
        "        # Преобразование индексов в символы\n",
        "        pred = ''.join([idx_to_char.get(idx, '') for idx in no_blank])\n",
        "        predictions.append(pred)\n",
        "\n",
        "    return predictions\n",
        "\n",
        "def calculate_levenshtein_distance(predictions, targets):\n",
        "    \"\"\"Вычисление расстояния Левенштейна между предсказаниями и целевыми строками\"\"\"\n",
        "    distances = []\n",
        "\n",
        "    for pred, target in zip(predictions, targets):\n",
        "        # преобразование целевых индексов в строку\n",
        "        if isinstance(target, torch.Tensor):\n",
        "            target = ''.join([idx_to_char.get(idx.item(), '') for idx in target if idx.item() != -1])\n",
        "\n",
        "      \n",
        "        dist = Levenshtein.distance(pred, target)\n",
        "        distances.append(dist)\n",
        "\n",
        "    return np.mean(distances) if distances else 0\n",
        "\n",
        "def train_epoch(model, loader, optimizer, criterion, device):\n",
        "    model.train()\n",
        "    epoch_loss = 0\n",
        "    all_predictions = []\n",
        "    all_targets = []\n",
        "\n",
        "    for batch_idx, (features, targets, feature_lengths, target_lengths) in enumerate(tqdm(loader, desc=\"Обучение\")):\n",
        "        features = features.to(device)\n",
        "        targets = targets.to(device)\n",
        "        feature_lengths = feature_lengths.to(device)\n",
        "\n",
        "     \n",
        "        optimizer.zero_grad()\n",
        "\n",
        "        # прямой проход\n",
        "        outputs = model(features, feature_lengths)\n",
        "\n",
        "        # подготовка данных для CTC Loss\n",
        "        outputs_log_softmax = nn.functional.log_softmax(outputs, dim=2)\n",
        "        outputs_trans = outputs_log_softmax.permute(1, 0, 2)  # (T, N, C)\n",
        "\n",
        "        # вычисление функции потерь\n",
        "        loss = criterion(outputs_trans, targets, feature_lengths // 4, target_lengths)\n",
        "\n",
        "        # Обратное распространение ошибки\n",
        "        loss.backward()\n",
        "\n",
        "        # Ограничение градиента для предотвращения взрыва градиентов\n",
        "        torch.nn.utils.clip_grad_norm_(model.parameters(), 5.0)\n",
        "\n",
        "        # Оптимизация\n",
        "        optimizer.step()\n",
        "\n",
        "        epoch_loss += loss.item()\n",
        "\n",
        "        # Декодирование предсказаний для вычисления метрики\n",
        "        with torch.no_grad():\n",
        "            predictions = decode_predictions(outputs)\n",
        "            target_strings = []\n",
        "\n",
        "            for i, target_length in enumerate(target_lengths):\n",
        "                target_string = ''.join([idx_to_char.get(targets[i, j].item(), '') for j in range(target_length)])\n",
        "                target_strings.append(target_string)\n",
        "\n",
        "            all_predictions.extend(predictions)\n",
        "            all_targets.extend(target_strings)\n",
        "\n",
        "    avg_loss = epoch_loss / len(loader)\n",
        "    lev_distance = calculate_levenshtein_distance(all_predictions, all_targets)\n",
        "\n",
        "    return avg_loss, lev_distance\n",
        "\n",
        "def validate(model, loader, criterion, device):\n",
        "    model.eval()\n",
        "    epoch_loss = 0\n",
        "    all_predictions = []\n",
        "    all_targets = []\n",
        "\n",
        "    with torch.no_grad():\n",
        "        for batch_idx, (features, targets, feature_lengths, target_lengths) in enumerate(tqdm(loader, desc=\"Валидация\")):\n",
        "            features = features.to(device)\n",
        "            targets = targets.to(device)\n",
        "            feature_lengths = feature_lengths.to(device)\n",
        "\n",
        "            # прямой проход\n",
        "            outputs = model(features, feature_lengths)\n",
        "\n",
        "            # Подготовка данных для CTC Loss\n",
        "            outputs_log_softmax = nn.functional.log_softmax(outputs, dim=2)\n",
        "            outputs_trans = outputs_log_softmax.permute(1, 0, 2)  # (T, N, C)\n",
        "\n",
        "            # Вычисление функции потерь\n",
        "            loss = criterion(outputs_trans, targets, feature_lengths // 4, target_lengths)\n",
        "\n",
        "            epoch_loss += loss.item()\n",
        "\n",
        "            # декодирование предсказаний\n",
        "            predictions = decode_predictions(outputs)\n",
        "            target_strings = []\n",
        "\n",
        "            for i, target_length in enumerate(target_lengths):\n",
        "                target_string = ''.join([idx_to_char.get(targets[i, j].item(), '') for j in range(target_length)])\n",
        "                target_strings.append(target_string)\n",
        "\n",
        "            all_predictions.extend(predictions)\n",
        "            all_targets.extend(target_strings)\n",
        "\n",
        "    avg_loss = epoch_loss / len(loader)\n",
        "    lev_distance = calculate_levenshtein_distance(all_predictions, all_targets)\n",
        "\n",
        "    return avg_loss, lev_distance, all_predictions, all_targets\n"
      ]
    },
    {
      "cell_type": "code",
      "execution_count": null,
      "metadata": {},
      "outputs": [],
      "source": [
        "# ячейка для абляционного прогона\n",
        "'''\n",
        "\n",
        "records = []\n",
        "for _, row in processed_df.iterrows():\n",
        "    shape = tuple(row['feature_shape'])\n",
        "    arr   = np.frombuffer(row['features_bytes'], dtype=np.float32)\n",
        "    feats = arr.reshape(shape)  # (T, D)\n",
        "    records.append({'features': feats, 'message': row['message']})\n",
        "\n",
        "\n",
        "# Определение срезов \n",
        "\n",
        "feature_slices = {\n",
        "    'mfcc':        (0, 10),     # 10 коэффициентов MFCC\n",
        "    'delta':       (10, 20),    # 10 дельт 1-го порядка\n",
        "    'delta2':      (20, 30),    # 10 дельт 2-го порядка\n",
        "    'log_mel32':   (30, 62),    # 32 лог-мел банка (62-30=32)\n",
        "    'centroid':    (62, 63),    # спектральный центроид (1)\n",
        "    'rolloff':     (63, 64),    # спектральный rolloff (1)\n",
        "    'contrast':    (64, 65),    # спектральный контраст (1)\n",
        "    'flatness':    (65, 66),    # спектральная плоскость (1)\n",
        "    'rms':         (66, 67),    # RMS энергия (1)\n",
        "    'zcr':         (67, 68),    # частота пересечения нуля (1)\n",
        "    'env_feat':    (68, 73)     # 5 признаков огибающей (73-68=5)\n",
        "}\n",
        "\n",
        "all_features = list(feature_slices.keys())\n",
        "\n",
        "def select_columns(feats, feature_names):\n",
        "    cols = []\n",
        "    for name in feature_names:\n",
        "        s,e = feature_slices[name]\n",
        "        cols.extend(range(s,e))\n",
        "    return feats[:, cols]\n",
        "\n",
        "# \n",
        "# Dataset и collate_fn\n",
        "# \n",
        "class MorseDataset(Dataset):\n",
        "    def __init__(self, recs, char_to_idx):\n",
        "        self.recs = recs\n",
        "        self.char_to_idx = char_to_idx\n",
        "    def __len__(self):\n",
        "        return len(self.recs)\n",
        "    def __getitem__(self, i):\n",
        "        feats = self.recs[i]['features']\n",
        "        msg   = self.recs[i]['message']\n",
        "        X = torch.from_numpy(feats.copy()).float()\n",
        "        Y = torch.tensor([self.char_to_idx[c] for c in msg], dtype=torch.long)\n",
        "        return X, Y, X.size(0), Y.size(0)\n",
        "\n",
        "def collate_fn(batch):\n",
        "    batch.sort(key=lambda x: x[2], reverse=True)\n",
        "    feats,tgts,flens,tlens = zip(*batch)\n",
        "    B,D = len(feats), feats[0].shape[1]\n",
        "    max_f,max_t = max(flens), max(tlens)\n",
        "    X = torch.zeros(B, max_f, D)\n",
        "    Y = torch.full((B, max_t), -1, dtype=torch.long)\n",
        "    for i in range(B):\n",
        "        X[i,:flens[i]] = feats[i]\n",
        "        Y[i,:tlens[i]] = tgts[i]\n",
        "    return X,Y,torch.tensor(flens),torch.tensor(tlens)\n",
        "\n",
        "#\n",
        "# Определение модели и утилит\n",
        "\n",
        "class SimpleMorseModel(nn.Module):\n",
        "    def __init__(self, input_dim, hidden_dim, lstm_dim, output_dim, dropout=0.3):\n",
        "        super().__init__()\n",
        "        self.conv = nn.Sequential(\n",
        "            nn.Conv1d(input_dim, hidden_dim, 5, padding=2),\n",
        "            nn.BatchNorm1d(hidden_dim), nn.ReLU(), nn.Dropout(dropout),\n",
        "            nn.Conv1d(hidden_dim, hidden_dim, 5, padding=2, stride=2),\n",
        "            nn.BatchNorm1d(hidden_dim), nn.ReLU(), nn.Dropout(dropout),\n",
        "            nn.Conv1d(hidden_dim, hidden_dim, 5, padding=2, stride=2),\n",
        "            nn.BatchNorm1d(hidden_dim), nn.ReLU(), nn.Dropout(dropout),\n",
        "        )\n",
        "        self.lstm = nn.LSTM(hidden_dim, lstm_dim, num_layers=1,\n",
        "                            bidirectional=True, batch_first=True)\n",
        "        self.classifier = nn.Sequential(\n",
        "            nn.Dropout(dropout),\n",
        "            nn.Linear(lstm_dim*2, output_dim)\n",
        "        )\n",
        "    def forward(self, x, x_lengths):\n",
        "        x = x.transpose(1,2)\n",
        "        x = self.conv(x)\n",
        "        x = x.transpose(1,2)\n",
        "        x_lengths = torch.div(x_lengths, 4, rounding_mode='floor')\n",
        "        packed = nn.utils.rnn.pack_padded_sequence(\n",
        "            x, x_lengths.cpu(), batch_first=True, enforce_sorted=False)\n",
        "        out,_ = self.lstm(packed)\n",
        "        out,_ = nn.utils.rnn.pad_packed_sequence(out, batch_first=True)\n",
        "        return self.classifier(out)\n",
        "\n",
        "def decode_predictions(output):\n",
        "    res=[]\n",
        "    for i in range(output.size(0)):\n",
        "        inds = torch.argmax(output[i],dim=1).cpu().tolist()\n",
        "        collapsed=[inds[0]]\n",
        "        for x in inds[1:]:\n",
        "            if x!=collapsed[-1]: collapsed.append(x)\n",
        "        no_blank=[x for x in collapsed if x!=0]\n",
        "        res.append(''.join(idx_to_char[x] for x in no_blank))\n",
        "    return res\n",
        "\n",
        "def calc_lev(preds, targs):\n",
        "    d=[]\n",
        "    for p,t in zip(preds,targs):\n",
        "        if isinstance(t,torch.Tensor):\n",
        "            t=''.join(idx_to_char[int(x)] for x in t if x!=-1)\n",
        "        d.append(Levenshtein.distance(p,t))\n",
        "    return float(np.mean(d)) if d else 0.0\n",
        "\n",
        "# \n",
        "# train_epoch и validate\n",
        "\n",
        "def train_epoch(model, loader, opt, crit, device):\n",
        "    model.train()\n",
        "    total_loss=0\n",
        "    all_p,all_t=[],[]\n",
        "    for X,Y,flens,tlens in loader:\n",
        "        X,Y,flens = X.to(device), Y.to(device), flens.to(device)\n",
        "        opt.zero_grad()\n",
        "        out = model(X,flens)                     # [B,T',C]\n",
        "        logp = nn.functional.log_softmax(out,dim=2)\n",
        "        loss = crit(logp.permute(1,0,2), Y, flens//4, tlens)\n",
        "        loss.backward()\n",
        "        torch.nn.utils.clip_grad_norm_(model.parameters(),5.0)\n",
        "        opt.step()\n",
        "        total_loss += loss.item()\n",
        "        preds = decode_predictions(out)\n",
        "        tstr  = [''.join(idx_to_char[x] for x in Y[i,:tlens[i]].cpu().tolist())\n",
        "                 for i in range(len(tlens))]\n",
        "        all_p+=preds; all_t+=tstr\n",
        "    return total_loss/len(loader), calc_lev(all_p,all_t)\n",
        "\n",
        "def validate(model, loader, crit, device):\n",
        "    model.eval()\n",
        "    total_loss=0\n",
        "    all_p,all_t=[],[]\n",
        "    with torch.no_grad():\n",
        "        for X,Y,flens,tlens in loader:\n",
        "            X,Y,flens = X.to(device), Y.to(device), flens.to(device)\n",
        "            out = model(X,flens)\n",
        "            logp=nn.functional.log_softmax(out,dim=2)\n",
        "            loss = crit(logp.permute(1,0,2), Y, flens//4, tlens)\n",
        "            total_loss+= loss.item()\n",
        "            preds = decode_predictions(out)\n",
        "            tstr  = [''.join(idx_to_char[x] for x in Y[i,:tlens[i]].cpu().tolist())\n",
        "                     for i in range(len(tlens))]\n",
        "            all_p+=preds; all_t+=tstr\n",
        "    return total_loss/len(loader), calc_lev(all_p,all_t)\n",
        "\n",
        "\n",
        "# Основной абляционный цикл\n",
        "\n",
        "device = torch.device(\"cuda\" if torch.cuda.is_available() else \"cpu\")\n",
        "\n",
        "results = []\n",
        "\n",
        "for cfg_name, feat_list in configs.items():\n",
        "    print(f\"\\n=== CONFIG: {cfg_name} ===\")\n",
        "    recs_sub = [\n",
        "        {'features': select_columns(r['features'], feat_list),\n",
        "         'message' : r['message']}\n",
        "        for r in records\n",
        "    ]\n",
        "    tr, va = train_test_split(recs_sub, test_size=0.1, random_state=42)\n",
        "    tr_loader = DataLoader(MorseDataset(tr, char_to_idx),\n",
        "                           batch_size=BATCH_SIZE, shuffle=True, collate_fn=collate_fn)\n",
        "    va_loader = DataLoader(MorseDataset(va, char_to_idx),\n",
        "                           batch_size=BATCH_SIZE, shuffle=False, collate_fn=collate_fn)\n",
        "\n",
        "    # Вот здесь:\n",
        "    input_dim = sum(feature_slices[g][1] - feature_slices[g][0] for g in feat_list)\n",
        "    model     = SimpleMorseModel(input_dim, 96, 128, len(CHARS), 0.3).to(device)\n",
        "    crit      = nn.CTCLoss(blank=0, zero_infinity=True)\n",
        "    opt       = optim.Adam(model.parameters(), lr=LEARNING_RATE, weight_decay=1e-5)\n",
        "\n",
        "   \n",
        "    for epoch in range(1, NUM_EPOCHS+1):\n",
        "        train_epoch(model, tr_loader, opt, crit, device)\n",
        "        vloss, vdist = validate(model, va_loader, crit, device)[:2]\n",
        "\n",
        "    results.append({\n",
        "        'config'     : cfg_name,\n",
        "        'valid_loss' : vloss,\n",
        "        'valid_dist' : vdist\n",
        "    })\n",
        "\n",
        "results_df = pd.DataFrame(results)\n",
        "print(results_df)\n",
        "\n",
        "'''"
      ]
    },
    {
      "cell_type": "code",
      "execution_count": null,
      "metadata": {
        "colab": {
          "base_uri": "https://localhost:8080/"
        },
        "execution": {
          "iopub.execute_input": "2025-04-17T09:23:54.772437Z",
          "iopub.status.busy": "2025-04-17T09:23:54.772140Z",
          "iopub.status.idle": "2025-04-17T10:05:45.230699Z",
          "shell.execute_reply": "2025-04-17T10:05:45.229495Z",
          "shell.execute_reply.started": "2025-04-17T09:23:54.772415Z"
        },
        "id": "gQ_Tps7lbTfQ",
        "outputId": "43479790-51a7-4571-f488-b5dca8cdc0fc",
        "trusted": true
      },
      "outputs": [
        {
          "name": "stdout",
          "output_type": "stream",
          "text": [
            "Эпоха 1/30\n"
          ]
        },
        {
          "name": "stderr",
          "output_type": "stream",
          "text": [
            "Обучение: 100%|██████████| 460/460 [01:48<00:00,  4.25it/s]\n",
            "Валидация: 100%|██████████| 10/10 [00:02<00:00,  4.73it/s]\n"
          ]
        },
        {
          "name": "stdout",
          "output_type": "stream",
          "text": [
            "Потери: 4.3946 (обучение), 1.8516 (валидация)\n",
            "Расстояние Левенштейна: 8.9678 (обучение), 4.3083 (валидация)\n",
            "Сохранена лучшая модель!\n",
            "Примеры предсказаний:\n",
            "Исходный текст: МЪА П0ЪЛ\n",
            "Предсказание: АПШЪЭ\n",
            "Расстояние Левенштейна: 5\n",
            "--------------------------------------------------\n",
            "Исходный текст: Н5#Ж2С8КГ\n",
            "Предсказание: 5#4ЧХ8ЕГ\n",
            "Расстояние Левенштейна: 5\n",
            "--------------------------------------------------\n",
            "Исходный текст: МЬ0ЮЬ ШЧЛН\n",
            "Предсказание: ЩЬЮ08ЛД\n",
            "Расстояние Левенштейна: 7\n",
            "--------------------------------------------------\n",
            "Исходный текст: ОГ1 ЛЕЕБХИЕЩ\n",
            "Предсказание: Г1ЛД5И3\n",
            "Расстояние Левенштейна: 8\n",
            "--------------------------------------------------\n",
            "Исходный текст: 3ЖП2ПИ5Ы\n",
            "Предсказание: 34П2П55#\n",
            "Расстояние Левенштейна: 3\n",
            "--------------------------------------------------\n",
            "--------------------------------------------------------------------------------\n",
            "Эпоха 2/30\n"
          ]
        },
        {
          "name": "stderr",
          "output_type": "stream",
          "text": [
            "Обучение: 100%|██████████| 460/460 [01:56<00:00,  3.95it/s]\n",
            "Валидация: 100%|██████████| 10/10 [00:02<00:00,  4.59it/s]\n"
          ]
        },
        {
          "name": "stdout",
          "output_type": "stream",
          "text": [
            "Потери: 0.5891 (обучение), 0.2308 (валидация)\n",
            "Расстояние Левенштейна: 1.1109 (обучение), 0.4317 (валидация)\n",
            "Сохранена лучшая модель!\n",
            "Примеры предсказаний:\n",
            "Исходный текст: МЪА П0ЪЛ\n",
            "Предсказание: МЪА П0ЪЛ\n",
            "Расстояние Левенштейна: 0\n",
            "--------------------------------------------------\n",
            "Исходный текст: Н5#Ж2С8КГ\n",
            "Предсказание: Н5#Ж2ОХ8ЯГ\n",
            "Расстояние Левенштейна: 3\n",
            "--------------------------------------------------\n",
            "Исходный текст: МЬ0ЮЬ ШЧЛН\n",
            "Предсказание: МЬ0ЮЬ ШЧЛН\n",
            "Расстояние Левенштейна: 0\n",
            "--------------------------------------------------\n",
            "Исходный текст: ОГ1 ЛЕЕБХИЕЩ\n",
            "Предсказание: ОГ1 ЛЕЕБХИЕЩ\n",
            "Расстояние Левенштейна: 0\n",
            "--------------------------------------------------\n",
            "Исходный текст: 3ЖП2ПИ5Ы\n",
            "Предсказание: 3ЖП2ПИ5Ы\n",
            "Расстояние Левенштейна: 0\n",
            "--------------------------------------------------\n",
            "--------------------------------------------------------------------------------\n",
            "Эпоха 3/30\n"
          ]
        },
        {
          "name": "stderr",
          "output_type": "stream",
          "text": [
            "Обучение: 100%|██████████| 460/460 [01:55<00:00,  3.99it/s]\n",
            "Валидация: 100%|██████████| 10/10 [00:02<00:00,  4.61it/s]\n"
          ]
        },
        {
          "name": "stdout",
          "output_type": "stream",
          "text": [
            "Потери: 0.2680 (обучение), 0.1924 (валидация)\n",
            "Расстояние Левенштейна: 0.5129 (обучение), 0.3967 (валидация)\n",
            "Сохранена лучшая модель!\n",
            "Примеры предсказаний:\n",
            "Исходный текст: МЪА П0ЪЛ\n",
            "Предсказание: МЪА П0ЪЛ\n",
            "Расстояние Левенштейна: 0\n",
            "--------------------------------------------------\n",
            "Исходный текст: Н5#Ж2С8КГ\n",
            "Предсказание: Н5#Ж2С8КГ\n",
            "Расстояние Левенштейна: 0\n",
            "--------------------------------------------------\n",
            "Исходный текст: МЬ0ЮЬ ШЧЛН\n",
            "Предсказание: МЬ0ЮЬ ШЧЛН\n",
            "Расстояние Левенштейна: 0\n",
            "--------------------------------------------------\n",
            "Исходный текст: ОГ1 ЛЕЕБХИЕЩ\n",
            "Предсказание: ОГ1 ЛЕЕБХИЕЩ\n",
            "Расстояние Левенштейна: 0\n",
            "--------------------------------------------------\n",
            "Исходный текст: 3ЖП2ПИ5Ы\n",
            "Предсказание: 3ЖП2ПИ5Ы\n",
            "Расстояние Левенштейна: 0\n",
            "--------------------------------------------------\n",
            "--------------------------------------------------------------------------------\n",
            "Эпоха 4/30\n"
          ]
        },
        {
          "name": "stderr",
          "output_type": "stream",
          "text": [
            "Обучение: 100%|██████████| 460/460 [01:55<00:00,  3.98it/s]\n",
            "Валидация: 100%|██████████| 10/10 [00:02<00:00,  4.63it/s]\n"
          ]
        },
        {
          "name": "stdout",
          "output_type": "stream",
          "text": [
            "Потери: 0.2165 (обучение), 0.1643 (валидация)\n",
            "Расстояние Левенштейна: 0.4462 (обучение), 0.3733 (валидация)\n",
            "Сохранена лучшая модель!\n",
            "Примеры предсказаний:\n",
            "Исходный текст: МЪА П0ЪЛ\n",
            "Предсказание: МЪА П0ЪЛ\n",
            "Расстояние Левенштейна: 0\n",
            "--------------------------------------------------\n",
            "Исходный текст: Н5#Ж2С8КГ\n",
            "Предсказание: Н5#Ж2С8КГ\n",
            "Расстояние Левенштейна: 0\n",
            "--------------------------------------------------\n",
            "Исходный текст: МЬ0ЮЬ ШЧЛН\n",
            "Предсказание: МЬ0ЮЬ ШЧЛН\n",
            "Расстояние Левенштейна: 0\n",
            "--------------------------------------------------\n",
            "Исходный текст: ОГ1 ЛЕЕБХИЕЩ\n",
            "Предсказание: ОГ1 ЛЕЕБХИЕЩ\n",
            "Расстояние Левенштейна: 0\n",
            "--------------------------------------------------\n",
            "Исходный текст: 3ЖП2ПИ5Ы\n",
            "Предсказание: 3ЖП2ПИ5Ы\n",
            "Расстояние Левенштейна: 0\n",
            "--------------------------------------------------\n",
            "--------------------------------------------------------------------------------\n",
            "Эпоха 5/30\n"
          ]
        },
        {
          "name": "stderr",
          "output_type": "stream",
          "text": [
            "Обучение: 100%|██████████| 460/460 [01:54<00:00,  4.00it/s]\n",
            "Валидация: 100%|██████████| 10/10 [00:02<00:00,  4.62it/s]\n"
          ]
        },
        {
          "name": "stdout",
          "output_type": "stream",
          "text": [
            "Потери: 0.1910 (обучение), 0.1484 (валидация)\n",
            "Расстояние Левенштейна: 0.4095 (обучение), 0.3517 (валидация)\n",
            "Сохранена лучшая модель!\n",
            "Примеры предсказаний:\n",
            "Исходный текст: МЪА П0ЪЛ\n",
            "Предсказание: МЪА П0ЪЛ\n",
            "Расстояние Левенштейна: 0\n",
            "--------------------------------------------------\n",
            "Исходный текст: Н5#Ж2С8КГ\n",
            "Предсказание: Н5#Ж2С8КГ\n",
            "Расстояние Левенштейна: 0\n",
            "--------------------------------------------------\n",
            "Исходный текст: МЬ0ЮЬ ШЧЛН\n",
            "Предсказание: МЬ0ЮЬ ШЧЛН\n",
            "Расстояние Левенштейна: 0\n",
            "--------------------------------------------------\n",
            "Исходный текст: ОГ1 ЛЕЕБХИЕЩ\n",
            "Предсказание: ОГ1 ЛЕЕБХИЕЩ\n",
            "Расстояние Левенштейна: 0\n",
            "--------------------------------------------------\n",
            "Исходный текст: 3ЖП2ПИ5Ы\n",
            "Предсказание: 3ЖП2ПИ5Ы\n",
            "Расстояние Левенштейна: 0\n",
            "--------------------------------------------------\n",
            "--------------------------------------------------------------------------------\n",
            "Эпоха 6/30\n"
          ]
        },
        {
          "name": "stderr",
          "output_type": "stream",
          "text": [
            "Обучение: 100%|██████████| 460/460 [01:54<00:00,  4.01it/s]\n",
            "Валидация: 100%|██████████| 10/10 [00:02<00:00,  4.62it/s]\n"
          ]
        },
        {
          "name": "stdout",
          "output_type": "stream",
          "text": [
            "Потери: 0.1746 (обучение), 0.1422 (валидация)\n",
            "Расстояние Левенштейна: 0.3815 (обучение), 0.3417 (валидация)\n",
            "Сохранена лучшая модель!\n",
            "Примеры предсказаний:\n",
            "Исходный текст: МЪА П0ЪЛ\n",
            "Предсказание: МЪА П0ЪЛ\n",
            "Расстояние Левенштейна: 0\n",
            "--------------------------------------------------\n",
            "Исходный текст: Н5#Ж2С8КГ\n",
            "Предсказание: Н5#Ж2С8КГ\n",
            "Расстояние Левенштейна: 0\n",
            "--------------------------------------------------\n",
            "Исходный текст: МЬ0ЮЬ ШЧЛН\n",
            "Предсказание: МЬ0ЮЬ ШЧЛН\n",
            "Расстояние Левенштейна: 0\n",
            "--------------------------------------------------\n",
            "Исходный текст: ОГ1 ЛЕЕБХИЕЩ\n",
            "Предсказание: ОГ1 ЛЕЕБХИЕЩ\n",
            "Расстояние Левенштейна: 0\n",
            "--------------------------------------------------\n",
            "Исходный текст: 3ЖП2ПИ5Ы\n",
            "Предсказание: 3ЖП2ПИ5Ы\n",
            "Расстояние Левенштейна: 0\n",
            "--------------------------------------------------\n",
            "--------------------------------------------------------------------------------\n",
            "Эпоха 7/30\n"
          ]
        },
        {
          "name": "stderr",
          "output_type": "stream",
          "text": [
            "Обучение: 100%|██████████| 460/460 [01:54<00:00,  4.02it/s]\n",
            "Валидация: 100%|██████████| 10/10 [00:02<00:00,  4.67it/s]\n"
          ]
        },
        {
          "name": "stdout",
          "output_type": "stream",
          "text": [
            "Потери: 0.1637 (обучение), 0.1404 (валидация)\n",
            "Расстояние Левенштейна: 0.3673 (обучение), 0.3250 (валидация)\n",
            "Сохранена лучшая модель!\n",
            "Примеры предсказаний:\n",
            "Исходный текст: МЪА П0ЪЛ\n",
            "Предсказание: МЪА П0ЪЛ\n",
            "Расстояние Левенштейна: 0\n",
            "--------------------------------------------------\n",
            "Исходный текст: Н5#Ж2С8КГ\n",
            "Предсказание: Н5#Ж2ОС8КГ\n",
            "Расстояние Левенштейна: 1\n",
            "--------------------------------------------------\n",
            "Исходный текст: МЬ0ЮЬ ШЧЛН\n",
            "Предсказание: МЬ0ЮЬ ШЧЛН\n",
            "Расстояние Левенштейна: 0\n",
            "--------------------------------------------------\n",
            "Исходный текст: ОГ1 ЛЕЕБХИЕЩ\n",
            "Предсказание: ОГ1 ЛЕЕБХИЕЩ\n",
            "Расстояние Левенштейна: 0\n",
            "--------------------------------------------------\n",
            "Исходный текст: 3ЖП2ПИ5Ы\n",
            "Предсказание: 3ЖП2ПИ5Ы\n",
            "Расстояние Левенштейна: 0\n",
            "--------------------------------------------------\n",
            "--------------------------------------------------------------------------------\n",
            "Эпоха 8/30\n"
          ]
        },
        {
          "name": "stderr",
          "output_type": "stream",
          "text": [
            "Обучение: 100%|██████████| 460/460 [01:54<00:00,  4.00it/s]\n",
            "Валидация: 100%|██████████| 10/10 [00:02<00:00,  4.61it/s]\n"
          ]
        },
        {
          "name": "stdout",
          "output_type": "stream",
          "text": [
            "Потери: 0.1545 (обучение), 0.1421 (валидация)\n",
            "Расстояние Левенштейна: 0.3501 (обучение), 0.3250 (валидация)\n",
            "Нет улучшения в течение 1 эпох\n",
            "--------------------------------------------------------------------------------\n",
            "Эпоха 9/30\n"
          ]
        },
        {
          "name": "stderr",
          "output_type": "stream",
          "text": [
            "Обучение: 100%|██████████| 460/460 [01:55<00:00,  3.99it/s]\n",
            "Валидация: 100%|██████████| 10/10 [00:02<00:00,  4.57it/s]\n"
          ]
        },
        {
          "name": "stdout",
          "output_type": "stream",
          "text": [
            "Потери: 0.1476 (обучение), 0.1357 (валидация)\n",
            "Расстояние Левенштейна: 0.3374 (обучение), 0.3233 (валидация)\n",
            "Сохранена лучшая модель!\n",
            "Примеры предсказаний:\n",
            "Исходный текст: МЪА П0ЪЛ\n",
            "Предсказание: МЪА П0ЪЛ\n",
            "Расстояние Левенштейна: 0\n",
            "--------------------------------------------------\n",
            "Исходный текст: Н5#Ж2С8КГ\n",
            "Предсказание: Н5#Ж2С8КГ\n",
            "Расстояние Левенштейна: 0\n",
            "--------------------------------------------------\n",
            "Исходный текст: МЬ0ЮЬ ШЧЛН\n",
            "Предсказание: МЬ0ЮЬ ШЧЛН\n",
            "Расстояние Левенштейна: 0\n",
            "--------------------------------------------------\n",
            "Исходный текст: ОГ1 ЛЕЕБХИЕЩ\n",
            "Предсказание: ОГ1 ЛЕЕБХИЕЩ\n",
            "Расстояние Левенштейна: 0\n",
            "--------------------------------------------------\n",
            "Исходный текст: 3ЖП2ПИ5Ы\n",
            "Предсказание: 3ЖП2ПИ5Ы\n",
            "Расстояние Левенштейна: 0\n",
            "--------------------------------------------------\n",
            "--------------------------------------------------------------------------------\n",
            "Эпоха 10/30\n"
          ]
        },
        {
          "name": "stderr",
          "output_type": "stream",
          "text": [
            "Обучение: 100%|██████████| 460/460 [01:54<00:00,  4.00it/s]\n",
            "Валидация: 100%|██████████| 10/10 [00:02<00:00,  4.65it/s]\n"
          ]
        },
        {
          "name": "stdout",
          "output_type": "stream",
          "text": [
            "Потери: 0.1389 (обучение), 0.1241 (валидация)\n",
            "Расстояние Левенштейна: 0.3202 (обучение), 0.3083 (валидация)\n",
            "Сохранена лучшая модель!\n",
            "Примеры предсказаний:\n",
            "Исходный текст: МЪА П0ЪЛ\n",
            "Предсказание: МЪА П0ЪЛ\n",
            "Расстояние Левенштейна: 0\n",
            "--------------------------------------------------\n",
            "Исходный текст: Н5#Ж2С8КГ\n",
            "Предсказание: Н5#Ж2С8КГ\n",
            "Расстояние Левенштейна: 0\n",
            "--------------------------------------------------\n",
            "Исходный текст: МЬ0ЮЬ ШЧЛН\n",
            "Предсказание: МЬ0ЮЬ ШЧЛН\n",
            "Расстояние Левенштейна: 0\n",
            "--------------------------------------------------\n",
            "Исходный текст: ОГ1 ЛЕЕБХИЕЩ\n",
            "Предсказание: ОГ1 ЛЕЕБХИЕЩ\n",
            "Расстояние Левенштейна: 0\n",
            "--------------------------------------------------\n",
            "Исходный текст: 3ЖП2ПИ5Ы\n",
            "Предсказание: 3ЖП2ПИ5Ы\n",
            "Расстояние Левенштейна: 0\n",
            "--------------------------------------------------\n",
            "--------------------------------------------------------------------------------\n",
            "Эпоха 11/30\n"
          ]
        },
        {
          "name": "stderr",
          "output_type": "stream",
          "text": [
            "Обучение: 100%|██████████| 460/460 [01:54<00:00,  4.00it/s]\n",
            "Валидация: 100%|██████████| 10/10 [00:02<00:00,  4.67it/s]\n"
          ]
        },
        {
          "name": "stdout",
          "output_type": "stream",
          "text": [
            "Потери: 0.1340 (обучение), 0.1251 (валидация)\n",
            "Расстояние Левенштейна: 0.3127 (обучение), 0.2933 (валидация)\n",
            "Сохранена лучшая модель!\n",
            "Примеры предсказаний:\n",
            "Исходный текст: МЪА П0ЪЛ\n",
            "Предсказание: МЪА П0ЪЛ\n",
            "Расстояние Левенштейна: 0\n",
            "--------------------------------------------------\n",
            "Исходный текст: Н5#Ж2С8КГ\n",
            "Предсказание: Н5#Ж2С8КГ\n",
            "Расстояние Левенштейна: 0\n",
            "--------------------------------------------------\n",
            "Исходный текст: МЬ0ЮЬ ШЧЛН\n",
            "Предсказание: МЬ0ЮЬ ШЧЛН\n",
            "Расстояние Левенштейна: 0\n",
            "--------------------------------------------------\n",
            "Исходный текст: ОГ1 ЛЕЕБХИЕЩ\n",
            "Предсказание: ОГ1 ЛЕЕБХИЕЩ\n",
            "Расстояние Левенштейна: 0\n",
            "--------------------------------------------------\n",
            "Исходный текст: 3ЖП2ПИ5Ы\n",
            "Предсказание: 3ЖП2ПИ5Ы\n",
            "Расстояние Левенштейна: 0\n",
            "--------------------------------------------------\n",
            "--------------------------------------------------------------------------------\n",
            "Эпоха 12/30\n"
          ]
        },
        {
          "name": "stderr",
          "output_type": "stream",
          "text": [
            "Обучение: 100%|██████████| 460/460 [01:54<00:00,  4.01it/s]\n",
            "Валидация: 100%|██████████| 10/10 [00:02<00:00,  4.57it/s]\n"
          ]
        },
        {
          "name": "stdout",
          "output_type": "stream",
          "text": [
            "Потери: 0.1284 (обучение), 0.1184 (валидация)\n",
            "Расстояние Левенштейна: 0.3014 (обучение), 0.2850 (валидация)\n",
            "Сохранена лучшая модель!\n",
            "Примеры предсказаний:\n",
            "Исходный текст: МЪА П0ЪЛ\n",
            "Предсказание: ВМЪА П0ЪЛ\n",
            "Расстояние Левенштейна: 1\n",
            "--------------------------------------------------\n",
            "Исходный текст: Н5#Ж2С8КГ\n",
            "Предсказание: Н5#Ж2С8КГ\n",
            "Расстояние Левенштейна: 0\n",
            "--------------------------------------------------\n",
            "Исходный текст: МЬ0ЮЬ ШЧЛН\n",
            "Предсказание: МЬ0ЮЬ ШЧЛН\n",
            "Расстояние Левенштейна: 0\n",
            "--------------------------------------------------\n",
            "Исходный текст: ОГ1 ЛЕЕБХИЕЩ\n",
            "Предсказание: ОГ1 ЛЕЕБХИЕЩ\n",
            "Расстояние Левенштейна: 0\n",
            "--------------------------------------------------\n",
            "Исходный текст: 3ЖП2ПИ5Ы\n",
            "Предсказание: 3ЖП2ПИ5Ы\n",
            "Расстояние Левенштейна: 0\n",
            "--------------------------------------------------\n",
            "--------------------------------------------------------------------------------\n",
            "Эпоха 13/30\n"
          ]
        },
        {
          "name": "stderr",
          "output_type": "stream",
          "text": [
            "Обучение: 100%|██████████| 460/460 [01:54<00:00,  4.00it/s]\n",
            "Валидация: 100%|██████████| 10/10 [00:02<00:00,  4.64it/s]\n"
          ]
        },
        {
          "name": "stdout",
          "output_type": "stream",
          "text": [
            "Потери: 0.1230 (обучение), 0.1122 (валидация)\n",
            "Расстояние Левенштейна: 0.2921 (обучение), 0.2917 (валидация)\n",
            "Нет улучшения в течение 1 эпох\n",
            "--------------------------------------------------------------------------------\n",
            "Эпоха 14/30\n"
          ]
        },
        {
          "name": "stderr",
          "output_type": "stream",
          "text": [
            "Обучение: 100%|██████████| 460/460 [01:54<00:00,  4.01it/s]\n",
            "Валидация: 100%|██████████| 10/10 [00:02<00:00,  4.67it/s]\n"
          ]
        },
        {
          "name": "stdout",
          "output_type": "stream",
          "text": [
            "Потери: 0.1194 (обучение), 0.1144 (валидация)\n",
            "Расстояние Левенштейна: 0.2849 (обучение), 0.2683 (валидация)\n",
            "Сохранена лучшая модель!\n",
            "Примеры предсказаний:\n",
            "Исходный текст: МЪА П0ЪЛ\n",
            "Предсказание: МЪА П0ЪЛ\n",
            "Расстояние Левенштейна: 0\n",
            "--------------------------------------------------\n",
            "Исходный текст: Н5#Ж2С8КГ\n",
            "Предсказание: Н5#Ж2С8КГ\n",
            "Расстояние Левенштейна: 0\n",
            "--------------------------------------------------\n",
            "Исходный текст: МЬ0ЮЬ ШЧЛН\n",
            "Предсказание: МЬ0ЮЬ ШЧЛН\n",
            "Расстояние Левенштейна: 0\n",
            "--------------------------------------------------\n",
            "Исходный текст: ОГ1 ЛЕЕБХИЕЩ\n",
            "Предсказание: ОГ1 ЛЕЕБХИЕЩ\n",
            "Расстояние Левенштейна: 0\n",
            "--------------------------------------------------\n",
            "Исходный текст: 3ЖП2ПИ5Ы\n",
            "Предсказание: 3ЖП2ПИ5Ы\n",
            "Расстояние Левенштейна: 0\n",
            "--------------------------------------------------\n",
            "--------------------------------------------------------------------------------\n",
            "Эпоха 15/30\n"
          ]
        },
        {
          "name": "stderr",
          "output_type": "stream",
          "text": [
            "Обучение: 100%|██████████| 460/460 [01:54<00:00,  4.01it/s]\n",
            "Валидация: 100%|██████████| 10/10 [00:02<00:00,  4.68it/s]\n"
          ]
        },
        {
          "name": "stdout",
          "output_type": "stream",
          "text": [
            "Потери: 0.1158 (обучение), 0.1130 (валидация)\n",
            "Расстояние Левенштейна: 0.2757 (обучение), 0.2800 (валидация)\n",
            "Нет улучшения в течение 1 эпох\n",
            "--------------------------------------------------------------------------------\n",
            "Эпоха 16/30\n"
          ]
        },
        {
          "name": "stderr",
          "output_type": "stream",
          "text": [
            "Обучение: 100%|██████████| 460/460 [01:54<00:00,  4.01it/s]\n",
            "Валидация: 100%|██████████| 10/10 [00:02<00:00,  4.61it/s]\n"
          ]
        },
        {
          "name": "stdout",
          "output_type": "stream",
          "text": [
            "Потери: 0.1123 (обучение), 0.1134 (валидация)\n",
            "Расстояние Левенштейна: 0.2701 (обучение), 0.2867 (валидация)\n",
            "Нет улучшения в течение 2 эпох\n",
            "--------------------------------------------------------------------------------\n",
            "Эпоха 17/30\n"
          ]
        },
        {
          "name": "stderr",
          "output_type": "stream",
          "text": [
            "Обучение: 100%|██████████| 460/460 [01:54<00:00,  4.01it/s]\n",
            "Валидация: 100%|██████████| 10/10 [00:02<00:00,  4.63it/s]\n"
          ]
        },
        {
          "name": "stdout",
          "output_type": "stream",
          "text": [
            "Потери: 0.1103 (обучение), 0.1088 (валидация)\n",
            "Расстояние Левенштейна: 0.2654 (обучение), 0.2817 (валидация)\n",
            "Нет улучшения в течение 3 эпох\n",
            "--------------------------------------------------------------------------------\n",
            "Эпоха 18/30\n"
          ]
        },
        {
          "name": "stderr",
          "output_type": "stream",
          "text": [
            "Обучение: 100%|██████████| 460/460 [01:54<00:00,  4.01it/s]\n",
            "Валидация: 100%|██████████| 10/10 [00:02<00:00,  4.67it/s]\n"
          ]
        },
        {
          "name": "stdout",
          "output_type": "stream",
          "text": [
            "Потери: 0.0995 (обучение), 0.1020 (валидация)\n",
            "Расстояние Левенштейна: 0.2424 (обучение), 0.2550 (валидация)\n",
            "Сохранена лучшая модель!\n",
            "Примеры предсказаний:\n",
            "Исходный текст: МЪА П0ЪЛ\n",
            "Предсказание: МЪА П0ЪЛ\n",
            "Расстояние Левенштейна: 0\n",
            "--------------------------------------------------\n",
            "Исходный текст: Н5#Ж2С8КГ\n",
            "Предсказание: Н5#Ж2С8КГ\n",
            "Расстояние Левенштейна: 0\n",
            "--------------------------------------------------\n",
            "Исходный текст: МЬ0ЮЬ ШЧЛН\n",
            "Предсказание: МЬ0ЮЬ ШЧЛН\n",
            "Расстояние Левенштейна: 0\n",
            "--------------------------------------------------\n",
            "Исходный текст: ОГ1 ЛЕЕБХИЕЩ\n",
            "Предсказание: ОГ1 ЛЕЕБХИЕЩ\n",
            "Расстояние Левенштейна: 0\n",
            "--------------------------------------------------\n",
            "Исходный текст: 3ЖП2ПИ5Ы\n",
            "Предсказание: 3ЖП2ПИ5Ы\n",
            "Расстояние Левенштейна: 0\n",
            "--------------------------------------------------\n",
            "--------------------------------------------------------------------------------\n",
            "Эпоха 19/30\n"
          ]
        },
        {
          "name": "stderr",
          "output_type": "stream",
          "text": [
            "Обучение: 100%|██████████| 460/460 [01:54<00:00,  4.03it/s]\n",
            "Валидация: 100%|██████████| 10/10 [00:02<00:00,  4.56it/s]\n"
          ]
        },
        {
          "name": "stdout",
          "output_type": "stream",
          "text": [
            "Потери: 0.0949 (обучение), 0.1031 (валидация)\n",
            "Расстояние Левенштейна: 0.2328 (обучение), 0.2617 (валидация)\n",
            "Нет улучшения в течение 1 эпох\n",
            "--------------------------------------------------------------------------------\n",
            "Эпоха 20/30\n"
          ]
        },
        {
          "name": "stderr",
          "output_type": "stream",
          "text": [
            "Обучение: 100%|██████████| 460/460 [01:54<00:00,  4.03it/s]\n",
            "Валидация: 100%|██████████| 10/10 [00:02<00:00,  4.62it/s]\n"
          ]
        },
        {
          "name": "stdout",
          "output_type": "stream",
          "text": [
            "Потери: 0.0940 (обучение), 0.1068 (валидация)\n",
            "Расстояние Левенштейна: 0.2309 (обучение), 0.2567 (валидация)\n",
            "Нет улучшения в течение 2 эпох\n",
            "--------------------------------------------------------------------------------\n",
            "Эпоха 21/30\n"
          ]
        },
        {
          "name": "stderr",
          "output_type": "stream",
          "text": [
            "Обучение: 100%|██████████| 460/460 [01:54<00:00,  4.02it/s]\n",
            "Валидация: 100%|██████████| 10/10 [00:02<00:00,  4.72it/s]\n"
          ]
        },
        {
          "name": "stdout",
          "output_type": "stream",
          "text": [
            "Потери: 0.0929 (обучение), 0.1040 (валидация)\n",
            "Расстояние Левенштейна: 0.2301 (обучение), 0.2333 (валидация)\n",
            "Сохранена лучшая модель!\n",
            "Примеры предсказаний:\n",
            "Исходный текст: МЪА П0ЪЛ\n",
            "Предсказание: МЪА П0ЪЛ\n",
            "Расстояние Левенштейна: 0\n",
            "--------------------------------------------------\n",
            "Исходный текст: Н5#Ж2С8КГ\n",
            "Предсказание: Н5#Ж2С8КГ\n",
            "Расстояние Левенштейна: 0\n",
            "--------------------------------------------------\n",
            "Исходный текст: МЬ0ЮЬ ШЧЛН\n",
            "Предсказание: МЬ0ЮЬ ШЧЛН\n",
            "Расстояние Левенштейна: 0\n",
            "--------------------------------------------------\n",
            "Исходный текст: ОГ1 ЛЕЕБХИЕЩ\n",
            "Предсказание: ОГ1 ЛЕЕБХИЕЩ\n",
            "Расстояние Левенштейна: 0\n",
            "--------------------------------------------------\n",
            "Исходный текст: 3ЖП2ПИ5Ы\n",
            "Предсказание: 3ЖП2ПИ5Ы\n",
            "Расстояние Левенштейна: 0\n",
            "--------------------------------------------------\n",
            "--------------------------------------------------------------------------------\n",
            "Эпоха 22/30\n"
          ]
        },
        {
          "name": "stderr",
          "output_type": "stream",
          "text": [
            "Обучение: 100%|██████████| 460/460 [01:54<00:00,  4.03it/s]\n",
            "Валидация: 100%|██████████| 10/10 [00:02<00:00,  4.60it/s]\n"
          ]
        },
        {
          "name": "stdout",
          "output_type": "stream",
          "text": [
            "Потери: 0.0909 (обучение), 0.1035 (валидация)\n",
            "Расстояние Левенштейна: 0.2237 (обучение), 0.2433 (валидация)\n",
            "Нет улучшения в течение 1 эпох\n",
            "--------------------------------------------------------------------------------\n",
            "Эпоха 23/30\n"
          ]
        },
        {
          "name": "stderr",
          "output_type": "stream",
          "text": [
            "Обучение: 100%|██████████| 460/460 [01:54<00:00,  4.02it/s]\n",
            "Валидация: 100%|██████████| 10/10 [00:02<00:00,  4.61it/s]\n"
          ]
        },
        {
          "name": "stdout",
          "output_type": "stream",
          "text": [
            "Потери: 0.0898 (обучение), 0.1030 (валидация)\n",
            "Расстояние Левенштейна: 0.2241 (обучение), 0.2500 (валидация)\n",
            "Нет улучшения в течение 2 эпох\n",
            "--------------------------------------------------------------------------------\n",
            "Эпоха 24/30\n"
          ]
        },
        {
          "name": "stderr",
          "output_type": "stream",
          "text": [
            "Обучение: 100%|██████████| 460/460 [01:54<00:00,  4.01it/s]\n",
            "Валидация: 100%|██████████| 10/10 [00:02<00:00,  4.66it/s]\n"
          ]
        },
        {
          "name": "stdout",
          "output_type": "stream",
          "text": [
            "Потери: 0.0875 (обучение), 0.1032 (валидация)\n",
            "Расстояние Левенштейна: 0.2185 (обучение), 0.2600 (валидация)\n",
            "Нет улучшения в течение 3 эпох\n",
            "--------------------------------------------------------------------------------\n",
            "Эпоха 25/30\n"
          ]
        },
        {
          "name": "stderr",
          "output_type": "stream",
          "text": [
            "Обучение: 100%|██████████| 460/460 [01:54<00:00,  4.02it/s]\n",
            "Валидация: 100%|██████████| 10/10 [00:02<00:00,  4.70it/s]\n"
          ]
        },
        {
          "name": "stdout",
          "output_type": "stream",
          "text": [
            "Потери: 0.0833 (обучение), 0.1037 (валидация)\n",
            "Расстояние Левенштейна: 0.2099 (обучение), 0.2600 (валидация)\n",
            "Нет улучшения в течение 4 эпох\n",
            "--------------------------------------------------------------------------------\n",
            "Эпоха 26/30\n"
          ]
        },
        {
          "name": "stderr",
          "output_type": "stream",
          "text": [
            "Обучение: 100%|██████████| 460/460 [01:54<00:00,  4.02it/s]\n",
            "Валидация: 100%|██████████| 10/10 [00:02<00:00,  4.55it/s]"
          ]
        },
        {
          "name": "stdout",
          "output_type": "stream",
          "text": [
            "Потери: 0.0812 (обучение), 0.1019 (валидация)\n",
            "Расстояние Левенштейна: 0.2056 (обучение), 0.2500 (валидация)\n",
            "Нет улучшения в течение 5 эпох\n",
            "Раннее прекращение обучения после 26 эпох\n"
          ]
        },
        {
          "name": "stderr",
          "output_type": "stream",
          "text": [
            "\n"
          ]
        }
      ],
      "source": [
        "def train_model():\n",
        "    best_valid_distance = float('inf')\n",
        "    epochs_no_improve = 0\n",
        "    history = {'train_loss': [], 'train_distance': [], 'valid_loss': [], 'valid_distance': []}\n",
        "\n",
        "    for epoch in range(NUM_EPOCHS):\n",
        "        print(f\"Эпоха {epoch+1}/{NUM_EPOCHS}\")\n",
        "\n",
        "        # Обучение\n",
        "        train_loss, train_distance = train_epoch(model, train_loader, optimizer, criterion, device)\n",
        "\n",
        "        # Валидация\n",
        "        valid_loss, valid_distance, valid_predictions, valid_targets = validate(model, valid_loader, criterion, device)\n",
        "\n",
        "        # Сохранение истории обучения\n",
        "        history['train_loss'].append(train_loss)\n",
        "        history['train_distance'].append(train_distance)\n",
        "        history['valid_loss'].append(valid_loss)\n",
        "        history['valid_distance'].append(valid_distance)\n",
        "\n",
        "        # Обновление LR\n",
        "        scheduler.step(valid_distance)\n",
        "\n",
        "        print(f\"Потери: {train_loss:.4f} (обучение), {valid_loss:.4f} (валидация)\")\n",
        "        print(f\"Расстояние Левенштейна: {train_distance:.4f} (обучение), {valid_distance:.4f} (валидация)\")\n",
        "\n",
        "        # Сохраняем лучшую моделm\n",
        "        if valid_distance < best_valid_distance:\n",
        "            best_valid_distance = valid_distance\n",
        "            torch.save(model.state_dict(), 'best_model.pth')\n",
        "            print(\"Сохранена лучшая модель!\")\n",
        "            epochs_no_improve = 0\n",
        "\n",
        "            # Вывод примеров предсказаний (берем 5 шт.)\n",
        "            print(\"Примеры предсказаний:\")\n",
        "            for i in range(min(5, len(valid_predictions))):\n",
        "                print(f\"Исходный текст: {valid_targets[i]}\")\n",
        "                print(f\"Предсказание: {valid_predictions[i]}\")\n",
        "                print(f\"Расстояние Левенштейна: {Levenshtein.distance(valid_predictions[i], valid_targets[i])}\")\n",
        "                print(\"-\" * 50)\n",
        "        else:\n",
        "            epochs_no_improve += 1\n",
        "            print(f\"Нет улучшения в течение {epochs_no_improve} эпох\")\n",
        "\n",
        "        # Ранняя остановка\n",
        "        if epochs_no_improve >= PATIENCE:\n",
        "            print(f\"Раннее прекращение обучения после {epoch+1} эпох\")\n",
        "            break\n",
        "\n",
        "        print(\"-\" * 80)\n",
        "\n",
        "    return history\n",
        "\n",
        "# Запуск обучения\n",
        "history = train_model()"
      ]
    },
    {
      "cell_type": "code",
      "execution_count": null,
      "metadata": {
        "execution": {
          "iopub.execute_input": "2025-04-17T07:40:27.821270Z",
          "iopub.status.busy": "2025-04-17T07:40:27.820818Z",
          "iopub.status.idle": "2025-04-17T07:40:28.297708Z",
          "shell.execute_reply": "2025-04-17T07:40:28.296748Z",
          "shell.execute_reply.started": "2025-04-17T07:40:27.821236Z"
        },
        "id": "HCHF57AwbTfR",
        "outputId": "633abf73-232a-4bf2-be17-548e7760959a",
        "trusted": true
      },
      "outputs": [
        {
          "data": {
            "image/png": "[encoded data removed]",
            "text/plain": [
              "<Figure size 1200x400 with 2 Axes>"
            ]
          },
          "metadata": {},
          "output_type": "display_data"
        }
      ],
      "source": [
        "# Визуализация результатов обучения\n",
        "plt.figure(figsize=(12, 4))\n",
        "\n",
        "plt.subplot(1, 2, 1)\n",
        "plt.plot(history['train_loss'], label='Train Loss')\n",
        "plt.plot(history['valid_loss'], label='Valid Loss')\n",
        "plt.title('Loss')\n",
        "plt.xlabel('Epoch')\n",
        "plt.ylabel('Loss')\n",
        "plt.legend()\n",
        "\n",
        "plt.subplot(1, 2, 2)\n",
        "plt.plot(history['train_distance'], label='Train Levenshtein')\n",
        "plt.plot(history['valid_distance'], label='Valid Levenshtein')\n",
        "plt.title('Levenshtein Distance')\n",
        "plt.xlabel('Epoch')\n",
        "plt.ylabel('Distance')\n",
        "plt.legend()\n",
        "\n",
        "plt.tight_layout()\n",
        "plt.show()\n"
      ]
    },
    {
      "cell_type": "markdown",
      "metadata": {},
      "source": [
        "Ниже показан график распределения количества примеров в зависимости от расстояния Левештейна"
      ]
    },
    {
      "cell_type": "markdown",
      "metadata": {},
      "source": [
        "![alt text](image-3.png)"
      ]
    },
    {
      "cell_type": "code",
      "execution_count": null,
      "metadata": {
        "id": "PGkPxswvkWhy"
      },
      "outputs": [],
      "source": [
        "# производим предсказание для Submission:\n",
        "\n",
        "def predict(audio_id, model):\n",
        "    \n",
        "    with zipfile.ZipFile(ZIP_DIR, 'r') as zf:\n",
        "        \n",
        "        archive_path = f\"morse_dataset/{audio_id}\"\n",
        "        data = zf.read(archive_path)\n",
        "\n",
        "    \n",
        "    y, sr = librosa.load(io.BytesIO(data), sr=16000)\n",
        "\n",
        "    # извлекаем признаки\n",
        "    feats = extract_features_enhanced(y, sr)  \n",
        "\n",
        "    \n",
        "    X = torch.from_numpy(feats.copy()).float().unsqueeze(0).to(device)\n",
        "    lengths = torch.tensor([feats.shape[0]], device=device)\n",
        "\n",
        "    # Прямой проход и декодирование\n",
        "    with torch.no_grad():\n",
        "        out = model(X, lengths)               # [1, T, C]\n",
        "        pred = decode_predictions(out)[0]     \n",
        "\n",
        "    return pred\n",
        "\n",
        "def make_predictions_for_test():\n",
        "    df_test = pd.read_csv(TEST_CSV)\n",
        "    results = []\n",
        "    for _, row in df_test.iterrows():\n",
        "        audio_id = row['id']  \n",
        "        pred_msg  = predict(audio_id, model)\n",
        "        results.append({'id': audio_id, 'message': pred_msg})\n",
        "\n",
        "    pd.DataFrame(results).to_csv('sample_submission.csv', index=False)\n",
        "\n",
        "make_predictions_for_test()\n"
      ]
    }
  ],
  "metadata": {
    "accelerator": "GPU",
    "colab": {
      "gpuType": "T4",
      "machine_shape": "hm",
      "provenance": []
    },
    "kaggle": {
      "accelerator": "none",
      "dataSources": [
        {
          "datasetId": 7056612,
          "sourceId": 11286188,
          "sourceType": "datasetVersion"
        },
        {
          "datasetId": 7065416,
          "sourceId": 11298574,
          "sourceType": "datasetVersion"
        },
        {
          "datasetId": 7149883,
          "sourceId": 11416166,
          "sourceType": "datasetVersion"
        },
        {
          "datasetId": 7164473,
          "sourceId": 11437714,
          "sourceType": "datasetVersion"
        },
        {
          "sourceId": 232074639,
          "sourceType": "kernelVersion"
        },
        {
          "isSourceIdPinned": true,
          "modelId": 306318,
          "modelInstanceId": 285489,
          "sourceId": 341300,
          "sourceType": "modelInstanceVersion"
        }
      ],
      "dockerImageVersionId": 30918,
      "isGpuEnabled": false,
      "isInternetEnabled": true,
      "language": "python",
      "sourceType": "notebook"
    },
    "kernelspec": {
      "display_name": "Python 3",
      "name": "python3"
    },
    "language_info": {
      "codemirror_mode": {
        "name": "ipython",
        "version": 3
      },
      "file_extension": ".py",
      "mimetype": "text/x-python",
      "name": "python",
      "nbconvert_exporter": "python",
      "pygments_lexer": "ipython3",
      "version": "3.10.12"
    }
  },
  "nbformat": 4,
  "nbformat_minor": 0
}
